{
  "nbformat": 4,
  "nbformat_minor": 0,
  "metadata": {
    "colab": {
      "provenance": []
    },
    "kernelspec": {
      "name": "python3",
      "display_name": "Python 3"
    },
    "language_info": {
      "name": "python"
    }
  },
  "cells": [
    {
      "cell_type": "markdown",
      "source": [
        "Part A: Assume that the MPIN is 4-digits. Write a program that suggests if the MPIN is a commonly used one.\n",
        "Ignore the demographics for this part"
      ],
      "metadata": {
        "id": "rUZxQHRfP1sS"
      }
    },
    {
      "cell_type": "code",
      "execution_count": 44,
      "metadata": {
        "colab": {
          "base_uri": "https://localhost:8080/"
        },
        "id": "afLIetxyHYxX",
        "outputId": "cf93470a-3d6e-4476-95df-5d5d8ef8e99a"
      },
      "outputs": [
        {
          "output_type": "stream",
          "name": "stdout",
          "text": [
            "Enter your 4-digit MPIN:\n",
            " 5649\n",
            "*****MPIN created successfully*****\n"
          ]
        }
      ],
      "source": [
        "common_4digit_pins = ['1234', '1111', '0000', '1342', '1212', '2222', '4444', '1122', '1986', '2020','7777', '5555', '1989', '9999', '6969', '2004', '1010', '4321', '6666',\n",
        "                    '1984','1987', '1985', '8888', '2000', '1980', '1988', '1982', '2580', '1313', '1990','1991', '1983', '1978', '1979', '1995', '1994', '1977', '1981',\n",
        "                    '3333', '1992','1975', '2005', '1993', '1976', '1996', '2002', '1973', '2468', '1998', '1974']\n",
        "\n",
        "#source for 4 digit list https://www.cnbc.com/2025/02/12/most-common-four-digit-pins-leaked-on-the-dark-web-report.html\n",
        "\n",
        "\n",
        "mpin = input(\"Enter your 4-digit MPIN:\\n \")\n",
        "\n",
        "\n",
        "if len(mpin) != 4 or not mpin.isdigit():                            #if the mpin is not a 4-digit number\n",
        "    print(\"Invalid MPIN: Must be a 4-digit number.\")\n",
        "\n",
        "if mpin in common_4digit_pins:                                      #if-else statement to check fron the list of commmon pin\n",
        "    print(\"*****MPIN commonly used*****\")\n",
        "\n",
        "else:\n",
        "    print(\"*****MPIN created successfully*****\")\n",
        "\n"
      ]
    },
    {
      "cell_type": "markdown",
      "source": [
        "Part B: Enhance the above to take user’s demographics as input and provides an output\n",
        "\n",
        "a. Strength: WEAK or STRONG"
      ],
      "metadata": {
        "id": "TSp0f13cP8Qh"
      }
    },
    {
      "cell_type": "code",
      "source": [
        "def check_strength_with_demographics_4digit(mpin, dob_self, dob_spouse, anniversary):\n",
        "\n",
        "    if len(mpin) != 4 or not mpin.isdigit():\n",
        "        return \"Invalid MPIN: Must be a 4-digit number.\"\n",
        "\n",
        "    dob_self_ddmm = dob_self[:2] + dob_self[3:5]                # extracting day and month\n",
        "    dob_spouse_ddmm = dob_spouse[:2] + dob_spouse[3:5]\n",
        "    anniversary_ddmm = anniversary[:2] + anniversary[3:5]\n",
        "\n",
        "    if (                                                      # if present in any of the variables\n",
        "        mpin in common_4digit_pins or\n",
        "        mpin == dob_self_ddmm or\n",
        "        mpin == dob_spouse_ddmm or\n",
        "        mpin == anniversary_ddmm\n",
        "    ):\n",
        "        return \"Strength: WEAK\"\n",
        "    else:\n",
        "        return \"Strength: STRONG\"\n",
        "\n",
        "\n",
        "\n",
        "\n",
        "print(\"\\n Please enter all details in in DD-MM-YYYY format only \\n \")\n",
        "dob_self = input(\"Your Date of Birth (DD-MM-YYYY) : \")\n",
        "dob_spouse = input(\"Enter your Spouse's DOB (DD-MM-YYYY) : \")\n",
        "anniversary = input(\"Anniversary Date (DD-MM-YYYY): \")\n",
        "\n",
        "#print only the strength\n",
        "\n",
        "strength = check_strength_with_demographics_4digit(mpin, dob_self, dob_spouse, anniversary)\n",
        "print(strength)\n"
      ],
      "metadata": {
        "colab": {
          "base_uri": "https://localhost:8080/"
        },
        "id": "PIilpnj_Hal8",
        "outputId": "492a1c07-bcbf-4baa-fbaa-56ce8dfcb1ec"
      },
      "execution_count": 49,
      "outputs": [
        {
          "output_type": "stream",
          "name": "stdout",
          "text": [
            "\n",
            " Please enter all details in in DD-MM-YYYY format only \n",
            " \n",
            "Your Date of Birth (DD-MM-YYYY) : 27-07-2003\n",
            "Enter your Spouse's DOB (DD-MM-YYYY) : 19-09-2003\n",
            "Anniversary Date (DD-MM-YYYY): 05-05-2025\n",
            "Invalid MPIN: Must be a 4-digit number.\n"
          ]
        }
      ]
    },
    {
      "cell_type": "code",
      "source": [],
      "metadata": {
        "id": "28TUQRAsXiET"
      },
      "execution_count": 45,
      "outputs": []
    },
    {
      "cell_type": "markdown",
      "source": [
        "Part C: Enhance the above to provide the following outputs\n",
        "\n",
        " a. Strength: WEAK or STRONG\n",
        "\n",
        " b. If weak then the reason why was it considered weak:"
      ],
      "metadata": {
        "id": "GombifjDQI23"
      }
    },
    {
      "cell_type": "code",
      "source": [
        "# outcome is strength as well as reason, if no reason then an empty list\n",
        "print(strength)\n",
        "print(\"Reasons:\", reasons)"
      ],
      "metadata": {
        "colab": {
          "base_uri": "https://localhost:8080/"
        },
        "id": "AiY5d4jaHaoh",
        "outputId": "fccba1c0-b869-4839-e3fb-3628bc7d5829"
      },
      "execution_count": 46,
      "outputs": [
        {
          "output_type": "stream",
          "name": "stdout",
          "text": [
            "Strength: STRONG\n",
            "Reasons: []\n"
          ]
        }
      ]
    },
    {
      "cell_type": "markdown",
      "source": [
        "Part D: Above with a 6-digit PIN"
      ],
      "metadata": {
        "id": "2oF_hJZPQWYg"
      }
    },
    {
      "cell_type": "code",
      "source": [
        "def check_strength_with_reasons_6digit(mpin, dob_self, dob_spouse, anniversary):\n",
        "    common_6digit_pins = [\"123456\",\"111111\",\"123123\",\"000000\",\"321654\",\"123321\",\"654321\",\"520131\",\"520520\",\"112233\"]\n",
        "\n",
        "# Source for 6 digit : https://www.researchgate.net/figure/Top-ten-6-digit-PINs-in-each-PIN-dataset_tbl2_313823128\n",
        "\n",
        "    reasons = []\n",
        "\n",
        "    if len(mpin) != 6 or not mpin.isdigit():\n",
        "        return \"Invalid MPIN: Must be a 6-digit number.\", []\n",
        "\n",
        "\n",
        "    dob_self_ddmmyy = dob_self[:2] + dob_self[3:5] + dob_self[8:]\n",
        "    dob_spouse_ddmmyy = dob_spouse[:2] + dob_spouse[3:5] + dob_spouse[8:]\n",
        "    anniversary_ddmmyy = anniversary[:2] + anniversary[3:5] + anniversary[8:]\n",
        "\n",
        "\n",
        "\n",
        "    if mpin in common_6digit_pins:\n",
        "        reasons.append(\"COMMONLY_USED\")\n",
        "    if mpin == dob_self_ddmmyy:\n",
        "        reasons.append(\"DEMOGRAPHIC_DOB_SELF\")\n",
        "    if mpin == dob_spouse_ddmmyy:\n",
        "        reasons.append(\"DEMOGRAPHIC_DOB_SPOUSE\")\n",
        "    if mpin == anniversary_ddmmyy:\n",
        "        reasons.append(\"DEMOGRAPHIC_ANNIVERSARY\")\n",
        "\n",
        "    strength = \"WEAK\" if reasons else \"STRONG\"\n",
        "    return f\"Strength: {strength}\", reasons\n",
        "\n",
        "\n",
        "\n",
        "\n",
        "mpin = input(\"Enter your 6-digit MPIN: \")\n",
        "\n",
        "strength, reasons = check_strength_with_reasons_6digit(mpin, dob_self, dob_spouse, anniversary)\n",
        "print(strength)\n",
        "print(\"Reasons:\", reasons)\n"
      ],
      "metadata": {
        "colab": {
          "base_uri": "https://localhost:8080/"
        },
        "id": "ikMGj0fBHarX",
        "outputId": "49659820-017b-4ee4-d7fa-d7d80b06d0a2"
      },
      "execution_count": 47,
      "outputs": [
        {
          "output_type": "stream",
          "name": "stdout",
          "text": [
            "Enter your 6-digit MPIN: 272003\n",
            "Strength: STRONG\n",
            "Reasons: []\n"
          ]
        }
      ]
    },
    {
      "cell_type": "markdown",
      "source": [
        "Write code that tests the above written code using a set of inputs. Write at least 20 test case scenarios"
      ],
      "metadata": {
        "id": "6CrVyZZ3Qd-1"
      }
    },
    {
      "cell_type": "code",
      "source": [
        "def run_tests():\n",
        "    test_cases = [\n",
        "        # 4-digit:\n",
        "        (\"1234\", \"05-07-1997\", \"08-09-1998\", \"10-10-2020\"),\n",
        "        (\"0507\", \"05-07-1997\", \"08-09-1998\", \"10-10-2020\"),\n",
        "        (\"0809\", \"05-07-1997\", \"08-09-1998\", \"10-10-2020\"),\n",
        "        (\"1010\", \"05-07-1997\", \"08-09-1998\", \"10-10-2020\"),\n",
        "        (\"3819\", \"05-07-1997\", \"08-09-1998\", \"10-10-2020\"),\n",
        "        (\"0507\", \"05-07-1997\", \"05-07-1997\", \"05-07-1997\"),\n",
        "\n",
        "        # 6-digit:\n",
        "        (\"123456\", \"01-01-2000\", \"02-02-2001\", \"03-03-2022\"),\n",
        "        (\"010100\", \"01-01-2000\", \"02-02-2001\", \"03-03-2022\"),\n",
        "        (\"020201\", \"01-01-2000\", \"02-02-2001\", \"03-03-2022\"),\n",
        "        (\"030322\", \"01-01-2000\", \"02-02-2001\", \"03-03-2022\"),\n",
        "        (\"938271\", \"01-01-2000\", \"02-02-2001\", \"03-03-2022\"),\n",
        "        (\"010100\", \"01-01-2000\", \"01-01-2000\", \"01-01-2000\"),\n",
        "\n",
        "        # Invalid inputs\n",
        "        (\"12a4\", \"01-01-2000\", \"02-02-2001\", \"03-03-2022\"),\n",
        "        (\"123\", \"01-01-2000\", \"02-02-2001\", \"03-03-2022\"),\n",
        "        (\"1234567\", \"01-01-2000\", \"02-02-2001\", \"03-03-2022\"),\n",
        "\n",
        "        # Edge case:\n",
        "        (\"0000\", \"00-00-0000\", \"00-00-0000\", \"00-00-0000\"),\n",
        "        (\"000000\", \"00-00-0000\", \"00-00-0000\", \"00-00-0000\"),\n",
        "\n",
        "        # Repeated pattern\n",
        "        (\"1212\", \"12-12-2012\", \"11-11-2011\", \"10-10-2010\"),\n",
        "        (\"121212\", \"12-12-2012\", \"11-11-2011\", \"10-10-2010\"),\n",
        "\n",
        "        # Completely different but valid inputs\n",
        "        (\"7890\", \"12-03-1980\", \"24-06-1995\", \"05-11-2008\"),\n",
        "        (\"473829\", \"12-03-1980\", \"24-06-1995\", \"05-11-2008\"),\n",
        "    ]\n",
        "\n",
        "\n",
        "    print(\"\\nRunning all test cases:\\n\")\n",
        "    for i, (mpin, dob1, dob2, anniv) in enumerate(test_cases):\n",
        "        print(f\"Test Case {i+1}: MPIN = {mpin}\")\n",
        "        if len(mpin) == 4:\n",
        "            strength, reasons = check_strength_with_reasons_4digit(mpin, dob1, dob2, anniv)\n",
        "        elif len(mpin) == 6:\n",
        "            strength, reasons = check_strength_with_reasons_6digit(mpin, dob1, dob2, anniv)\n",
        "        else:\n",
        "            strength, reasons = \"Invalid MPIN length\", []\n",
        "        print(strength)\n",
        "        print(\"Reasons:\", reasons)\n",
        "        print(\"-\" * 30)\n",
        "\n",
        "\n",
        "run_tests()\n"
      ],
      "metadata": {
        "colab": {
          "base_uri": "https://localhost:8080/"
        },
        "id": "x5W94WIHHauD",
        "outputId": "3c213d81-d6ae-4024-f2ba-c5da7663d317"
      },
      "execution_count": 48,
      "outputs": [
        {
          "output_type": "stream",
          "name": "stdout",
          "text": [
            "\n",
            "Running all test cases:\n",
            "\n",
            "Test Case 1: MPIN = 1234\n",
            "Strength: WEAK\n",
            "Reasons: ['COMMONLY_USED']\n",
            "------------------------------\n",
            "Test Case 2: MPIN = 0507\n",
            "Strength: WEAK\n",
            "Reasons: ['DEMOGRAPHIC_DOB_SELF']\n",
            "------------------------------\n",
            "Test Case 3: MPIN = 0809\n",
            "Strength: WEAK\n",
            "Reasons: ['DEMOGRAPHIC_DOB_SPOUSE']\n",
            "------------------------------\n",
            "Test Case 4: MPIN = 1010\n",
            "Strength: WEAK\n",
            "Reasons: ['COMMONLY_USED', 'DEMOGRAPHIC_ANNIVERSARY']\n",
            "------------------------------\n",
            "Test Case 5: MPIN = 3819\n",
            "Strength: STRONG\n",
            "Reasons: []\n",
            "------------------------------\n",
            "Test Case 6: MPIN = 0507\n",
            "Strength: WEAK\n",
            "Reasons: ['DEMOGRAPHIC_DOB_SELF', 'DEMOGRAPHIC_DOB_SPOUSE', 'DEMOGRAPHIC_ANNIVERSARY']\n",
            "------------------------------\n",
            "Test Case 7: MPIN = 123456\n",
            "Strength: WEAK\n",
            "Reasons: ['COMMONLY_USED']\n",
            "------------------------------\n",
            "Test Case 8: MPIN = 010100\n",
            "Strength: WEAK\n",
            "Reasons: ['DEMOGRAPHIC_DOB_SELF']\n",
            "------------------------------\n",
            "Test Case 9: MPIN = 020201\n",
            "Strength: WEAK\n",
            "Reasons: ['DEMOGRAPHIC_DOB_SPOUSE']\n",
            "------------------------------\n",
            "Test Case 10: MPIN = 030322\n",
            "Strength: WEAK\n",
            "Reasons: ['DEMOGRAPHIC_ANNIVERSARY']\n",
            "------------------------------\n",
            "Test Case 11: MPIN = 938271\n",
            "Strength: STRONG\n",
            "Reasons: []\n",
            "------------------------------\n",
            "Test Case 12: MPIN = 010100\n",
            "Strength: WEAK\n",
            "Reasons: ['DEMOGRAPHIC_DOB_SELF', 'DEMOGRAPHIC_DOB_SPOUSE', 'DEMOGRAPHIC_ANNIVERSARY']\n",
            "------------------------------\n",
            "Test Case 13: MPIN = 12a4\n",
            "Invalid MPIN: Must be a 4-digit number.\n",
            "Reasons: []\n",
            "------------------------------\n",
            "Test Case 14: MPIN = 123\n",
            "Invalid MPIN length\n",
            "Reasons: []\n",
            "------------------------------\n",
            "Test Case 15: MPIN = 1234567\n",
            "Invalid MPIN length\n",
            "Reasons: []\n",
            "------------------------------\n",
            "Test Case 16: MPIN = 0000\n",
            "Strength: WEAK\n",
            "Reasons: ['COMMONLY_USED', 'DEMOGRAPHIC_DOB_SELF', 'DEMOGRAPHIC_DOB_SPOUSE', 'DEMOGRAPHIC_ANNIVERSARY']\n",
            "------------------------------\n",
            "Test Case 17: MPIN = 000000\n",
            "Strength: WEAK\n",
            "Reasons: ['COMMONLY_USED', 'DEMOGRAPHIC_DOB_SELF', 'DEMOGRAPHIC_DOB_SPOUSE', 'DEMOGRAPHIC_ANNIVERSARY']\n",
            "------------------------------\n",
            "Test Case 18: MPIN = 1212\n",
            "Strength: WEAK\n",
            "Reasons: ['COMMONLY_USED', 'DEMOGRAPHIC_DOB_SELF']\n",
            "------------------------------\n",
            "Test Case 19: MPIN = 121212\n",
            "Strength: WEAK\n",
            "Reasons: ['DEMOGRAPHIC_DOB_SELF']\n",
            "------------------------------\n",
            "Test Case 20: MPIN = 7890\n",
            "Strength: STRONG\n",
            "Reasons: []\n",
            "------------------------------\n",
            "Test Case 21: MPIN = 473829\n",
            "Strength: STRONG\n",
            "Reasons: []\n",
            "------------------------------\n"
          ]
        }
      ]
    },
    {
      "cell_type": "code",
      "source": [],
      "metadata": {
        "id": "nUGcRWbPHaww"
      },
      "execution_count": 48,
      "outputs": []
    },
    {
      "cell_type": "code",
      "source": [],
      "metadata": {
        "id": "ePin3s1_Haze"
      },
      "execution_count": 48,
      "outputs": []
    },
    {
      "cell_type": "code",
      "source": [],
      "metadata": {
        "id": "zae5q1RSHa2L"
      },
      "execution_count": 48,
      "outputs": []
    },
    {
      "cell_type": "code",
      "source": [],
      "metadata": {
        "id": "QXUw6UuiHa46"
      },
      "execution_count": 48,
      "outputs": []
    }
  ]
}